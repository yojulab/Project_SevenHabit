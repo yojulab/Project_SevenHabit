{
  "nbformat": 4,
  "nbformat_minor": 0,
  "metadata": {
    "colab": {
      "name": "03_데이터_통계로분석_비모수추정.ipynb",
      "provenance": [],
      "collapsed_sections": [],
      "authorship_tag": "ABX9TyP/Qta5NDsQKhsk91nmSd7K"
    },
    "kernelspec": {
      "name": "python3",
      "display_name": "Python 3"
    },
    "language_info": {
      "name": "python"
    }
  },
  "cells": [
    {
      "cell_type": "markdown",
      "source": [
        "#비모수 확률밀도 추정(NonParametric Density Estimation)\n",
        "\n",
        "\n",
        "*   데이터로부터 직접 밀도 추정\n",
        "\n",
        "\n"
      ],
      "metadata": {
        "id": "2sA05hR6r5py"
      }
    },
    {
      "cell_type": "markdown",
      "source": [
        "## 히스토그램법\n",
        "$\n",
        "* i번째 구간 확률값 \\\\\n",
        "Pr[x_0+(i-1]h <= x < x_0+ih)] = \\frac{K(x \\in [x_0+(i-1)h, x_0+ih))}{N}  (분모: 해당 구간 속한 데이터 개수, 분모 : 전체 데이터 개수) \\\\\n",
        "* \bn차원 데이터 x에 대한 확률밀도 함수 추정식 \\\\\n",
        "p(x) = \\frac{1}{h^n}\\frac{K(x)}{N}  (h^n : 구간 부피)\n",
        "$\n",
        "*   알맞은 h값 선정이 추정에 큰 영향\n",
        "*   매끄럽지 못한 추정 분포\n",
        "\n",
        "\n"
      ],
      "metadata": {
        "id": "-R_AN2-3y9Ky"
      }
    },
    {
      "cell_type": "code",
      "source": [
        ""
      ],
      "metadata": {
        "id": "bf5A9mCHsELL"
      },
      "execution_count": null,
      "outputs": []
    }
  ]
}